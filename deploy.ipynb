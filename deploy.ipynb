{
  "nbformat": 4,
  "nbformat_minor": 0,
  "metadata": {
    "colab": {
      "provenance": [],
      "authorship_tag": "ABX9TyNcjKTEnaQLRzPEwrC/Wz1Z",
      "include_colab_link": true
    },
    "kernelspec": {
      "name": "python3",
      "display_name": "Python 3"
    },
    "language_info": {
      "name": "python"
    }
  },
  "cells": [
    {
      "cell_type": "markdown",
      "metadata": {
        "id": "view-in-github",
        "colab_type": "text"
      },
      "source": [
        "<a href=\"https://colab.research.google.com/github/autofollower350/Appx-V.1.0/blob/main/deploy.ipynb\" target=\"_parent\"><img src=\"https://colab.research.google.com/assets/colab-badge.svg\" alt=\"Open In Colab\"/></a>"
      ]
    },
    {
      "cell_type": "code",
      "execution_count": null,
      "metadata": {
        "id": "CP7lOvlBgGPV"
      },
      "outputs": [],
      "source": [
        "# ✅ Google Colab में Nest Asyncio इनेबल करें\n",
        "import nest_asyncio\n",
        "nest_asyncio.apply()\n",
        "\n",
        "# ✅ Google Colab में जरूरी पैकेज इंस्टॉल करें\n",
        "!pip install pyrogram tgcrypto yt-dlp nest_asyncio\n",
        "\n",
        "# ✅ GitHub से बॉट के कोड को डाउनलोड करें\n",
        "!git clone https://github.com/autofollower350/Appx-Project.git\n",
        "\n",
        "# ✅ वर्किंग डायरेक्टरी सेट करें\n",
        "%cd Appx-Project\n",
        "\n",
        "# ✅ \"bot\" फोल्डर मौजूद है या नहीं, चेक करो (अगर नहीं है तो बनाओ)\n",
        "import os\n",
        "if not os.path.exists(\"bot\"):\n",
        "    os.makedirs(\"bot\")\n",
        "\n",
        "    # ✅ Config सेटअप (Google Colab में API Keys यूजर से ले सकते हैं)\n",
        "    API_ID = input(\"Enter your API_ID: \")\n",
        "    API_HASH = input(\"Enter your API_HASH: \")\n",
        "    BOT_TOKEN = input(\"Enter your BOT_TOKEN: \")\n",
        "\n",
        "    with open(\"bot/config.py\", \"w\") as f:\n",
        "        f.write(f'''import nest_asyncio\n",
        "        nest_asyncio.apply()\n",
        "        API_ID = \"{API_ID}\"\n",
        "        API_HASH = \"{API_HASH}\"\n",
        "        BOT_TOKEN = \"{BOT_TOKEN}\"\n",
        "        ''')\n",
        "\n",
        "        print(\"✅ Config file updated successfully!\")\n",
        "\n",
        "        # ✅ बॉट स्टार्ट करो\n",
        "        !python bot/bot.py"
      ]
    }
  ]
}